{
 "cells": [
  {
   "cell_type": "markdown",
   "id": "24f5ba7f",
   "metadata": {},
   "source": [
    "Python Fundamental Data Types"
   ]
  },
  {
   "cell_type": "code",
   "execution_count": 1,
   "id": "5925d2b6",
   "metadata": {},
   "outputs": [
    {
     "data": {
      "text/plain": [
       "int"
      ]
     },
     "execution_count": 1,
     "metadata": {},
     "output_type": "execute_result"
    }
   ],
   "source": [
    "a=10\n",
    "type(a)"
   ]
  },
  {
   "cell_type": "code",
   "execution_count": 2,
   "id": "745a6dee",
   "metadata": {},
   "outputs": [
    {
     "data": {
      "text/plain": [
       "float"
      ]
     },
     "execution_count": 2,
     "metadata": {},
     "output_type": "execute_result"
    }
   ],
   "source": [
    "a=10.0\n",
    "type(a)"
   ]
  },
  {
   "cell_type": "code",
   "execution_count": 3,
   "id": "51dc295f",
   "metadata": {},
   "outputs": [
    {
     "data": {
      "text/plain": [
       "str"
      ]
     },
     "execution_count": 3,
     "metadata": {},
     "output_type": "execute_result"
    }
   ],
   "source": [
    "b=\"python\"\n",
    "type(b)"
   ]
  },
  {
   "cell_type": "code",
   "execution_count": 6,
   "id": "f47edfdd",
   "metadata": {},
   "outputs": [
    {
     "data": {
      "text/plain": [
       "str"
      ]
     },
     "execution_count": 6,
     "metadata": {},
     "output_type": "execute_result"
    }
   ],
   "source": [
    "## triple quotes for multiline strings\n",
    "c= '''Data Engineering \n",
    "Python'''\n",
    "type(c)"
   ]
  },
  {
   "cell_type": "code",
   "execution_count": 7,
   "id": "f00140a1",
   "metadata": {},
   "outputs": [
    {
     "data": {
      "text/plain": [
       "bool"
      ]
     },
     "execution_count": 7,
     "metadata": {},
     "output_type": "execute_result"
    }
   ],
   "source": [
    "a= True\n",
    "type(a)"
   ]
  },
  {
   "cell_type": "code",
   "execution_count": 8,
   "id": "621ffe5b",
   "metadata": {},
   "outputs": [
    {
     "data": {
      "text/plain": [
       "bool"
      ]
     },
     "execution_count": 8,
     "metadata": {},
     "output_type": "execute_result"
    }
   ],
   "source": [
    "b= False\n",
    "type(b)"
   ]
  },
  {
   "cell_type": "code",
   "execution_count": 9,
   "id": "8cbaa235",
   "metadata": {},
   "outputs": [
    {
     "data": {
      "text/plain": [
       "False"
      ]
     },
     "execution_count": 9,
     "metadata": {},
     "output_type": "execute_result"
    }
   ],
   "source": [
    "a=10\n",
    "b=20\n",
    "c=a>b\n",
    "c"
   ]
  },
  {
   "cell_type": "code",
   "execution_count": 10,
   "id": "b410b8ad",
   "metadata": {},
   "outputs": [
    {
     "name": "stdout",
     "output_type": "stream",
     "text": [
      "2\n"
     ]
    }
   ],
   "source": [
    "print(True+True)"
   ]
  },
  {
   "cell_type": "code",
   "execution_count": 11,
   "id": "c6f14565",
   "metadata": {},
   "outputs": [
    {
     "name": "stdout",
     "output_type": "stream",
     "text": [
      "(10+20j)\n",
      "<class 'complex'>\n"
     ]
    }
   ],
   "source": [
    "# complex number declaration\n",
    "c=10+20j\n",
    "print(c)\n",
    "print(type(c))"
   ]
  },
  {
   "cell_type": "code",
   "execution_count": 12,
   "id": "d5115785",
   "metadata": {},
   "outputs": [
    {
     "name": "stdout",
     "output_type": "stream",
     "text": [
      "8885288\n"
     ]
    }
   ],
   "source": [
    "#both variables a and b have the same id as they are bothing to the object with value 10\n",
    "a=10\n",
    "print(id(a))"
   ]
  },
  {
   "cell_type": "code",
   "execution_count": 13,
   "id": "a9a8a19c",
   "metadata": {},
   "outputs": [],
   "source": [
    "b=10"
   ]
  },
  {
   "cell_type": "code",
   "execution_count": 14,
   "id": "ebaff9f6",
   "metadata": {},
   "outputs": [
    {
     "name": "stdout",
     "output_type": "stream",
     "text": [
      "8885288\n"
     ]
    }
   ],
   "source": [
    "print(id(b))"
   ]
  },
  {
   "cell_type": "code",
   "execution_count": 15,
   "id": "f3ea66e3",
   "metadata": {},
   "outputs": [
    {
     "name": "stdout",
     "output_type": "stream",
     "text": [
      "8885608\n"
     ]
    }
   ],
   "source": [
    "# new object is created, hence id is different. \n",
    "a=20\n",
    "print(id(a))"
   ]
  },
  {
   "cell_type": "code",
   "execution_count": 17,
   "id": "6ce8c3a6",
   "metadata": {},
   "outputs": [],
   "source": [
    "s= \"Data engineering\""
   ]
  },
  {
   "cell_type": "code",
   "execution_count": 19,
   "id": "8f354d53",
   "metadata": {},
   "outputs": [
    {
     "data": {
      "text/plain": [
       "'n'"
      ]
     },
     "execution_count": 19,
     "metadata": {},
     "output_type": "execute_result"
    }
   ],
   "source": [
    "# s[-n] retreives nth string from the end\n",
    "s[-2]"
   ]
  },
  {
   "cell_type": "code",
   "execution_count": 20,
   "id": "d025b169",
   "metadata": {},
   "outputs": [
    {
     "data": {
      "text/plain": [
       "'t'"
      ]
     },
     "execution_count": 20,
     "metadata": {},
     "output_type": "execute_result"
    }
   ],
   "source": [
    "# s[n] retreives n+1 th string from the start\n",
    "s[2]"
   ]
  },
  {
   "cell_type": "code",
   "execution_count": 21,
   "id": "d08a41ff",
   "metadata": {},
   "outputs": [
    {
     "data": {
      "text/plain": [
       "'Data'"
      ]
     },
     "execution_count": 21,
     "metadata": {},
     "output_type": "execute_result"
    }
   ],
   "source": [
    "# retreives s[start:end-1]\n",
    "s[0:4]"
   ]
  },
  {
   "cell_type": "code",
   "execution_count": 22,
   "id": "e8408921",
   "metadata": {},
   "outputs": [
    {
     "data": {
      "text/plain": [
       "'xyz'"
      ]
     },
     "execution_count": 22,
     "metadata": {},
     "output_type": "execute_result"
    }
   ],
   "source": [
    "s=\"abcdefghijklmnopqrstuvwxyz\"\n",
    "s[-3:]"
   ]
  },
  {
   "cell_type": "code",
   "execution_count": 23,
   "id": "8555a5c8",
   "metadata": {},
   "outputs": [
    {
     "data": {
      "text/plain": [
       "'abcdefghijklmn'"
      ]
     },
     "execution_count": 23,
     "metadata": {},
     "output_type": "execute_result"
    }
   ],
   "source": [
    "s[:14]"
   ]
  },
  {
   "cell_type": "code",
   "execution_count": 24,
   "id": "b1d51ac6",
   "metadata": {},
   "outputs": [
    {
     "data": {
      "text/plain": [
       "'defghijklmnopqrstuvwxyz'"
      ]
     },
     "execution_count": 24,
     "metadata": {},
     "output_type": "execute_result"
    }
   ],
   "source": [
    "# does not give an error\n",
    "s[3:1000]"
   ]
  },
  {
   "cell_type": "code",
   "execution_count": 1,
   "id": "09975bfb",
   "metadata": {},
   "outputs": [],
   "source": [
    "is_geological_survey_complete = True\n",
    "\n",
    "is_environmental_clearance_received = True\n",
    "\n",
    "is_market_demand_high = False"
   ]
  },
  {
   "cell_type": "code",
   "execution_count": 2,
   "id": "5d0fbbed",
   "metadata": {},
   "outputs": [],
   "source": [
    "should_start_drilling = is_geological_survey_complete and is_environmental_clearance_received and is_market_demand_high"
   ]
  },
  {
   "cell_type": "code",
   "execution_count": 3,
   "id": "6cf145b8",
   "metadata": {},
   "outputs": [
    {
     "name": "stdout",
     "output_type": "stream",
     "text": [
      "should we start drilling? False\n"
     ]
    }
   ],
   "source": [
    "print(\"should we start drilling?\", should_start_drilling)"
   ]
  },
  {
   "cell_type": "code",
   "execution_count": 4,
   "id": "b5398b09",
   "metadata": {},
   "outputs": [],
   "source": [
    "# Boolean Variables\n",
    "HasExplorationPermit = True\n",
    "HasDrillingRights = True\n",
    "HasEnvironmentalApproval = False\n",
    "HasOilDiscovery = True\n",
    "\n",
    " \n",
    "\n",
    "# Logical Operations\n",
    "IsExplorationAllowed = HasExplorationPermit and HasDrillingRights and not HasEnvironmentalApproval\n",
    "IsDiscoveryProfitable = HasOilDiscovery and (HasExplorationPermit or HasDrillingRights)"
   ]
  },
  {
   "cell_type": "code",
   "execution_count": 5,
   "id": "c6923cff",
   "metadata": {
    "scrolled": true
   },
   "outputs": [
    {
     "name": "stdout",
     "output_type": "stream",
     "text": [
      "True\n",
      "True\n"
     ]
    }
   ],
   "source": [
    "print(IsExplorationAllowed)\n",
    "print(IsDiscoveryProfitable)"
   ]
  },
  {
   "cell_type": "code",
   "execution_count": 7,
   "id": "09e368ab",
   "metadata": {},
   "outputs": [
    {
     "data": {
      "text/plain": [
       "'tentwenty'"
      ]
     },
     "execution_count": 7,
     "metadata": {},
     "output_type": "execute_result"
    }
   ],
   "source": [
    "\"ten\"+\"twenty\""
   ]
  },
  {
   "cell_type": "code",
   "execution_count": 9,
   "id": "d3925109",
   "metadata": {},
   "outputs": [
    {
     "data": {
      "text/plain": [
       "'tenten'"
      ]
     },
     "execution_count": 9,
     "metadata": {},
     "output_type": "execute_result"
    }
   ],
   "source": [
    "\"ten\"*2"
   ]
  },
  {
   "cell_type": "markdown",
   "id": "4cbd75fd",
   "metadata": {},
   "source": [
    "List:\n",
    "    1. Heterogeneous objects are allowed.\n",
    "    2. DUplicates are allowed\n",
    "    3. Indexing and slicing are possible.\n",
    "    4. Mutable: can add and remove elements from it.\n",
    "    5. Enclosed in a square bracket.\n",
    "    6. Order is preserved."
   ]
  },
  {
   "cell_type": "code",
   "execution_count": 11,
   "id": "58bec923",
   "metadata": {},
   "outputs": [],
   "source": [
    "a=[10,\"python\",5.6,True]"
   ]
  },
  {
   "cell_type": "code",
   "execution_count": 12,
   "id": "39aca626",
   "metadata": {},
   "outputs": [
    {
     "name": "stdout",
     "output_type": "stream",
     "text": [
      "[10, 'python', 5.6, True]\n",
      "<class 'list'>\n"
     ]
    }
   ],
   "source": [
    "print(a)\n",
    "print(type(a))"
   ]
  },
  {
   "cell_type": "code",
   "execution_count": 14,
   "id": "307e61b8",
   "metadata": {},
   "outputs": [
    {
     "data": {
      "text/plain": [
       "True"
      ]
     },
     "execution_count": 14,
     "metadata": {},
     "output_type": "execute_result"
    }
   ],
   "source": [
    "a[-1]"
   ]
  },
  {
   "cell_type": "code",
   "execution_count": 15,
   "id": "0bf7b5b5",
   "metadata": {},
   "outputs": [
    {
     "data": {
      "text/plain": [
       "['python', 5.6, True]"
      ]
     },
     "execution_count": 15,
     "metadata": {},
     "output_type": "execute_result"
    }
   ],
   "source": [
    "a[1:]"
   ]
  },
  {
   "cell_type": "code",
   "execution_count": 16,
   "id": "436a5594",
   "metadata": {},
   "outputs": [
    {
     "data": {
      "text/plain": [
       "140640180079744"
      ]
     },
     "execution_count": 16,
     "metadata": {},
     "output_type": "execute_result"
    }
   ],
   "source": [
    "id(a)"
   ]
  },
  {
   "cell_type": "code",
   "execution_count": 17,
   "id": "56284c20",
   "metadata": {},
   "outputs": [
    {
     "data": {
      "text/plain": [
       "[10, 'python', 5.6, True, 999]"
      ]
     },
     "execution_count": 17,
     "metadata": {},
     "output_type": "execute_result"
    }
   ],
   "source": [
    "a.append(999)\n",
    "a"
   ]
  },
  {
   "cell_type": "code",
   "execution_count": 18,
   "id": "74a2ace1",
   "metadata": {},
   "outputs": [
    {
     "data": {
      "text/plain": [
       "140640180079744"
      ]
     },
     "execution_count": 18,
     "metadata": {},
     "output_type": "execute_result"
    }
   ],
   "source": [
    "id(a)"
   ]
  },
  {
   "cell_type": "code",
   "execution_count": 19,
   "id": "e0415a2e",
   "metadata": {},
   "outputs": [
    {
     "data": {
      "text/plain": [
       "['python', 5.6, True, 999]"
      ]
     },
     "execution_count": 19,
     "metadata": {},
     "output_type": "execute_result"
    }
   ],
   "source": [
    "a.remove(10)\n",
    "a"
   ]
  },
  {
   "cell_type": "markdown",
   "id": "c41cd489",
   "metadata": {},
   "source": [
    "Tuple:\n",
    "    1. ()\n",
    "    2. Tuple is same as list: only difference is tuple is immutable"
   ]
  },
  {
   "cell_type": "code",
   "execution_count": 21,
   "id": "8a102886",
   "metadata": {},
   "outputs": [
    {
     "data": {
      "text/plain": [
       "tuple"
      ]
     },
     "execution_count": 21,
     "metadata": {},
     "output_type": "execute_result"
    }
   ],
   "source": [
    "a= (\"Well A\", \"2023-09-15\",\"Pipeline\",True,100)\n",
    "type(a)"
   ]
  },
  {
   "cell_type": "code",
   "execution_count": 24,
   "id": "9f1ce62e",
   "metadata": {},
   "outputs": [],
   "source": [
    "# Employee details\n",
    "\n",
    "name = \"John Doe\"\n",
    "\n",
    "job_title = \"Senior Geologist\"\n",
    "\n",
    "department = \"Geology\"\n",
    "\n",
    "email = \"johndoe@email.com\"\n",
    "\n",
    "phone = \"123-456-7890\""
   ]
  },
  {
   "cell_type": "code",
   "execution_count": 25,
   "id": "23199768",
   "metadata": {},
   "outputs": [],
   "source": [
    "employee_info=f\"Employee Information: \\nName: {name} \\nJob Title:{job_title} \\nDepartment: {department} \\nEmail:{email} \\nPhone:{phone} \""
   ]
  },
  {
   "cell_type": "code",
   "execution_count": 26,
   "id": "837404f3",
   "metadata": {},
   "outputs": [
    {
     "name": "stdout",
     "output_type": "stream",
     "text": [
      "Employee Information: \n",
      "Name: John Doe \n",
      "Job Title:Senior Geologist \n",
      "Department: Geology \n",
      "Email:johndoe@email.com \n",
      "Phone:123-456-7890 \n"
     ]
    }
   ],
   "source": [
    "print(employee_info)"
   ]
  },
  {
   "cell_type": "markdown",
   "id": "a398dcd0",
   "metadata": {},
   "source": [
    "SET:\n",
    "    1. {}\n",
    "    2.Heterogeneous object, no duplicates allowed\n",
    "    3. Mutable"
   ]
  },
  {
   "cell_type": "code",
   "execution_count": 29,
   "id": "8852abbe",
   "metadata": {},
   "outputs": [
    {
     "data": {
      "text/plain": [
       "{10, 'SQL', 'Shell'}"
      ]
     },
     "execution_count": 29,
     "metadata": {},
     "output_type": "execute_result"
    }
   ],
   "source": [
    "c={10,\"Shell\"}\n",
    "c.add(\"SQL\")\n",
    "c"
   ]
  },
  {
   "cell_type": "markdown",
   "id": "fa6092ab",
   "metadata": {},
   "source": [
    "Dictionary:\n",
    "    1. {}\n",
    "    2. Key value\n",
    "    3. Heterogenous\n",
    "    4. Duplicates\n",
    "    5. Mutable"
   ]
  },
  {
   "cell_type": "code",
   "execution_count": 31,
   "id": "55c65969",
   "metadata": {},
   "outputs": [],
   "source": [
    "d={\"location\":\"WellA\"}"
   ]
  },
  {
   "cell_type": "code",
   "execution_count": 32,
   "id": "760f1cb5",
   "metadata": {},
   "outputs": [
    {
     "name": "stdout",
     "output_type": "stream",
     "text": [
      "<class 'dict'>\n"
     ]
    }
   ],
   "source": [
    "print(type(d))"
   ]
  },
  {
   "cell_type": "code",
   "execution_count": 33,
   "id": "e94ddf7c",
   "metadata": {},
   "outputs": [
    {
     "name": "stdout",
     "output_type": "stream",
     "text": [
      "Is Hydrotreating Unit installed? True\n",
      "Is Thermal Cracking Unit obsolete? True\n"
     ]
    }
   ],
   "source": [
    "# List of Equipment\n",
    "refineryEquipment = [\"Crude Distillation Unit\", \"Catalytic Cracking Unit\", \"Hydrotreating Unit\", \"FCC Unit\"]\n",
    "\n",
    "\n",
    "# Membership Operator\n",
    "IsUnitInstalled = \"Hydrotreating Unit\" in refineryEquipment\n",
    "IsUnitObsolete = \"Thermal Cracking Unit\" not in refineryEquipment\n",
    "\n",
    "\n",
    "print(\"Is Hydrotreating Unit installed?\", IsUnitInstalled)\n",
    "print(\"Is Thermal Cracking Unit obsolete?\", IsUnitObsolete)"
   ]
  },
  {
   "cell_type": "code",
   "execution_count": 34,
   "id": "b67747c8",
   "metadata": {},
   "outputs": [],
   "source": [
    "employees = [\n",
    "    \"John Doe, Senior Geologist, Geology, johndoe@email.com, 123-456-7890\",\n",
    "    \"Jane Smith, Drilling Engineer, Drilling, janesmith@email.com, 987-654-3210\",\n",
    "    \"Bob Johnson, Reservoir Engineer, Reservoir Engineering, bobjohnson@email.com, 456-789-0123\",\n",
    "    \"Alice Brown, Petrophysicist, Petrophysics, alicebrown@email.com, 789-012-3456\"\n",
    "]"
   ]
  },
  {
   "cell_type": "code",
   "execution_count": 35,
   "id": "811e1033",
   "metadata": {},
   "outputs": [
    {
     "data": {
      "text/plain": [
       "'John Doe, Senior Geologist, Geology, johndoe@email.com, 123-456-7890'"
      ]
     },
     "execution_count": 35,
     "metadata": {},
     "output_type": "execute_result"
    }
   ],
   "source": [
    "employees[0]"
   ]
  },
  {
   "cell_type": "code",
   "execution_count": 38,
   "id": "e531782a",
   "metadata": {},
   "outputs": [],
   "source": [
    "new_employee = \"Eva Green, Drilling Technician, Drilling, evagreen@email.com, 111-222-3333\""
   ]
  },
  {
   "cell_type": "code",
   "execution_count": 39,
   "id": "b35b43b2",
   "metadata": {},
   "outputs": [
    {
     "data": {
      "text/plain": [
       "['John Doe, Senior Geologist, Geology, johndoe@email.com, 123-456-7890',\n",
       " 'Jane Smith, Drilling Engineer, Drilling, janesmith@email.com, 987-654-3210',\n",
       " 'Bob Johnson, Reservoir Engineer, Reservoir Engineering, bobjohnson@email.com, 456-789-0123',\n",
       " 'Alice Brown, Petrophysicist, Petrophysics, alicebrown@email.com, 789-012-3456',\n",
       " 'Eva Green, Drilling Technician, Drilling, evagreen@email.com, 111-222-3333']"
      ]
     },
     "execution_count": 39,
     "metadata": {},
     "output_type": "execute_result"
    }
   ],
   "source": [
    "employees.append(new_employee)\n",
    "employees"
   ]
  },
  {
   "cell_type": "markdown",
   "id": "1f691154",
   "metadata": {},
   "source": [
    "Flow Control"
   ]
  },
  {
   "cell_type": "code",
   "execution_count": null,
   "id": "cef381a9",
   "metadata": {},
   "outputs": [],
   "source": [
    "Selection Statement"
   ]
  },
  {
   "cell_type": "code",
   "execution_count": 42,
   "id": "733a1296",
   "metadata": {},
   "outputs": [
    {
     "name": "stdout",
     "output_type": "stream",
     "text": [
      "enter current fuel level1500\n"
     ]
    }
   ],
   "source": [
    "low_fuel_threshold=1000\n",
    "critical_fuel_threshold=500\n",
    "current_fuel_level= int(input(\"enter current fuel level\"))"
   ]
  },
  {
   "cell_type": "code",
   "execution_count": 43,
   "id": "b552ba56",
   "metadata": {},
   "outputs": [
    {
     "name": "stdout",
     "output_type": "stream",
     "text": [
      "continue fueling\n"
     ]
    }
   ],
   "source": [
    "if(current_fuel_level<critical_fuel_threshold):\n",
    "    print(\"Critical fuel level reached.Take immediate action.\")\n",
    "\n",
    "elif(current_fuel_level<low_fuel_threshold):\n",
    "    print(\"Send fuel low alert\")\n",
    "\n",
    "else:\n",
    "    print(\"continue fueling\")"
   ]
  },
  {
   "cell_type": "code",
   "execution_count": 44,
   "id": "e01c3304",
   "metadata": {},
   "outputs": [],
   "source": [
    "l1= ['a','b','c']\n",
    "l2= [\"Sales\",\"IT\",\"Finance\"]"
   ]
  },
  {
   "cell_type": "code",
   "execution_count": 45,
   "id": "d46a894e",
   "metadata": {},
   "outputs": [
    {
     "data": {
      "text/plain": [
       "[('a', 'Sales'), ('b', 'IT'), ('c', 'Finance')]"
      ]
     },
     "execution_count": 45,
     "metadata": {},
     "output_type": "execute_result"
    }
   ],
   "source": [
    "l= list(zip(l1,l2))\n",
    "l"
   ]
  },
  {
   "cell_type": "code",
   "execution_count": 46,
   "id": "6cb148b7",
   "metadata": {},
   "outputs": [],
   "source": [
    "oil_gas_data = [\n",
    "    (\"Field A\", \"Texas\", 500000),\n",
    "    (\"Field B\", \"Alaska\", 800000),\n",
    "    (\"Field C\", \"North Sea\", 300000),\n",
    "    (\"Field D\", \"Gulf of Mexico\", 600000),\n",
    "]"
   ]
  },
  {
   "cell_type": "code",
   "execution_count": 51,
   "id": "83c2d7f0",
   "metadata": {},
   "outputs": [
    {
     "data": {
      "text/plain": [
       "('Field A', 'Field B', 'Field C', 'Field D')"
      ]
     },
     "execution_count": 51,
     "metadata": {},
     "output_type": "execute_result"
    }
   ],
   "source": [
    "field_name, location, reserves= zip(*oil_gas_data)\n",
    "field_name"
   ]
  },
  {
   "cell_type": "code",
   "execution_count": 48,
   "id": "f2d05b0f",
   "metadata": {},
   "outputs": [
    {
     "data": {
      "text/plain": [
       "[(0, 'Texas'), (1, 'Alaska'), (2, 'North Sea'), (3, 'Gulf of Mexico')]"
      ]
     },
     "execution_count": 48,
     "metadata": {},
     "output_type": "execute_result"
    }
   ],
   "source": [
    "e= list(enumerate(location))\n",
    "e"
   ]
  },
  {
   "cell_type": "code",
   "execution_count": 49,
   "id": "93273597",
   "metadata": {},
   "outputs": [
    {
     "name": "stdout",
     "output_type": "stream",
     "text": [
      "Field 1: Field A is located in Texas with reserves of 500000 barrels.\n",
      "Field 2: Field B is located in Alaska with reserves of 800000 barrels.\n",
      "Field 3: Field C is located in North Sea with reserves of 300000 barrels.\n",
      "Field 4: Field D is located in Gulf of Mexico with reserves of 600000 barrels.\n"
     ]
    }
   ],
   "source": [
    "for index, field_data in enumerate(oil_gas_data):\n",
    "    field_name, location, reserve = field_data\n",
    "    print(f\"Field {index+1}: {field_name} is located in {location} with reserves of {reserve} barrels.\")"
   ]
  },
  {
   "cell_type": "code",
   "execution_count": 52,
   "id": "ca61246f",
   "metadata": {},
   "outputs": [
    {
     "name": "stdout",
     "output_type": "stream",
     "text": [
      "('Texas', 'Alaska', 'North Sea', 'Gulf of Mexico')\n"
     ]
    }
   ],
   "source": [
    "print(location)"
   ]
  },
  {
   "cell_type": "code",
   "execution_count": 55,
   "id": "466a52d4",
   "metadata": {},
   "outputs": [
    {
     "data": {
      "text/plain": [
       "Counter({'Texas': 1, 'Alaska': 1, 'North Sea': 1, 'Gulf of Mexico': 1})"
      ]
     },
     "execution_count": 55,
     "metadata": {},
     "output_type": "execute_result"
    }
   ],
   "source": [
    "from collections import Counter\n",
    "count_location= Counter(location)\n",
    "count_location"
   ]
  },
  {
   "cell_type": "code",
   "execution_count": null,
   "id": "bff7dd7c",
   "metadata": {},
   "outputs": [],
   "source": []
  },
  {
   "cell_type": "code",
   "execution_count": null,
   "id": "0caa5a1c",
   "metadata": {},
   "outputs": [],
   "source": []
  },
  {
   "cell_type": "code",
   "execution_count": null,
   "id": "b7d71a96",
   "metadata": {},
   "outputs": [],
   "source": []
  }
 ],
 "metadata": {
  "kernelspec": {
   "display_name": "Python 3 (ipykernel)",
   "language": "python",
   "name": "python3"
  },
  "language_info": {
   "codemirror_mode": {
    "name": "ipython",
    "version": 3
   },
   "file_extension": ".py",
   "mimetype": "text/x-python",
   "name": "python",
   "nbconvert_exporter": "python",
   "pygments_lexer": "ipython3",
   "version": "3.11.4"
  }
 },
 "nbformat": 4,
 "nbformat_minor": 5
}
