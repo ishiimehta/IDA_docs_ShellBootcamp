{
 "cells": [
  {
   "cell_type": "code",
   "execution_count": 25,
   "id": "5cb5a820",
   "metadata": {},
   "outputs": [
    {
     "name": "stdout",
     "output_type": "stream",
     "text": [
      "hello\n",
      "Hello  priya  Good Morning\n",
      "4\n",
      "4\n"
     ]
    }
   ],
   "source": [
    "# Functions\n",
    "\n",
    "def my_function():\n",
    "    print(\"hello\")\n",
    "\n",
    "my_function()\n",
    "\n",
    "\n",
    "def my_name(name):\n",
    "    print(\"Hello \" ,name, \" Good Morning\")\n",
    "\n",
    "\n",
    "my_name(\"priya\")\n",
    "\n",
    "\n",
    "\n",
    "def my_square(num):\n",
    "    print(num * num)\n",
    "\n",
    "\n",
    "my_square(2)\n",
    "\n",
    "\n",
    "\n",
    "def my_square1(num):\n",
    "    return num*num\n",
    "\n",
    "my_square(2)\n"
   ]
  },
  {
   "cell_type": "code",
   "execution_count": 26,
   "id": "716e1fde",
   "metadata": {},
   "outputs": [
    {
     "name": "stdout",
     "output_type": "stream",
     "text": [
      "Enter the number34\n",
      "even\n",
      "3\n"
     ]
    }
   ],
   "source": [
    "a=int(input(\"Enter the number\"))\n",
    "if(a%2==0):\n",
    "    print(\"even\")\n",
    "else:\n",
    "    print(\"odd\")\n",
    " \n",
    "\n",
    "def add(a,b):\n",
    "    print(a+b) \n",
    "\n",
    "add(1,2)\n"
   ]
  },
  {
   "cell_type": "markdown",
   "id": "12ee4fb9",
   "metadata": {},
   "source": [
    "Types of Arguments:\n",
    "    1. Positional arguments\n",
    "    2. Keyword Arguments\n",
    "    3. Default arguments\n",
    "    4. Variable Length Argument\n",
    "    "
   ]
  },
  {
   "cell_type": "code",
   "execution_count": 1,
   "id": "b5aa7855",
   "metadata": {},
   "outputs": [],
   "source": [
    "def wish(name,msg):\n",
    "    print(\"hello\",name,msg)"
   ]
  },
  {
   "cell_type": "code",
   "execution_count": 2,
   "id": "08c1d7cb",
   "metadata": {},
   "outputs": [
    {
     "name": "stdout",
     "output_type": "stream",
     "text": [
      "hello ishita hey\n"
     ]
    }
   ],
   "source": [
    "## keyword\n",
    "wish(name=\"ishita\", msg=\"hey\")"
   ]
  },
  {
   "cell_type": "code",
   "execution_count": null,
   "id": "891f296c",
   "metadata": {},
   "outputs": [],
   "source": [
    "## positional\n",
    "wish(\"ishita\",\"hey\")"
   ]
  },
  {
   "cell_type": "code",
   "execution_count": null,
   "id": "033e260a",
   "metadata": {},
   "outputs": [],
   "source": [
    "## gives error\n",
    "wish(\"good morning\", name=\"ishi\")"
   ]
  },
  {
   "cell_type": "code",
   "execution_count": 5,
   "id": "e07553b7",
   "metadata": {},
   "outputs": [
    {
     "name": "stdout",
     "output_type": "stream",
     "text": [
      "hello ishita gm\n"
     ]
    }
   ],
   "source": [
    "wish(\"ishita\", msg=\"gm\")"
   ]
  },
  {
   "cell_type": "code",
   "execution_count": 6,
   "id": "98a6d559",
   "metadata": {},
   "outputs": [],
   "source": [
    "# default argument\n",
    "def sum(a=2, b=3):\n",
    "    return a+b"
   ]
  },
  {
   "cell_type": "code",
   "execution_count": 7,
   "id": "a3221676",
   "metadata": {},
   "outputs": [
    {
     "data": {
      "text/plain": [
       "12"
      ]
     },
     "execution_count": 7,
     "metadata": {},
     "output_type": "execute_result"
    }
   ],
   "source": [
    "sum(5,7)"
   ]
  },
  {
   "cell_type": "code",
   "execution_count": 8,
   "id": "3b18007e",
   "metadata": {},
   "outputs": [
    {
     "data": {
      "text/plain": [
       "5"
      ]
     },
     "execution_count": 8,
     "metadata": {},
     "output_type": "execute_result"
    }
   ],
   "source": [
    "sum()"
   ]
  },
  {
   "cell_type": "code",
   "execution_count": 9,
   "id": "57d10696",
   "metadata": {},
   "outputs": [
    {
     "name": "stdout",
     "output_type": "stream",
     "text": [
      "0\n",
      "1\n",
      "2\n",
      "3\n",
      "4\n",
      "5\n",
      "6\n",
      "7\n",
      "8\n",
      "9\n"
     ]
    }
   ],
   "source": [
    "sum=0\n",
    "for i in range(10):\n",
    "    sum=sum+i\n",
    "    print(i)"
   ]
  },
  {
   "cell_type": "code",
   "execution_count": 10,
   "id": "c6b33317",
   "metadata": {},
   "outputs": [],
   "source": [
    "def sum(a,b):\n",
    "    return a+b"
   ]
  },
  {
   "cell_type": "code",
   "execution_count": null,
   "id": "2daf072b",
   "metadata": {},
   "outputs": [],
   "source": [
    "# will show error due to more number of arguments than specified\n",
    "sum(10,20,30,40)"
   ]
  },
  {
   "cell_type": "code",
   "execution_count": 19,
   "id": "fe1d0002",
   "metadata": {},
   "outputs": [],
   "source": [
    "## variable length argument\n",
    "\n",
    "def add(*no):\n",
    "    sum=0\n",
    "    for i in no:\n",
    "        sum=sum+i\n",
    "    print(sum)       "
   ]
  },
  {
   "cell_type": "code",
   "execution_count": 20,
   "id": "895c888b",
   "metadata": {},
   "outputs": [
    {
     "name": "stdout",
     "output_type": "stream",
     "text": [
      "3\n"
     ]
    }
   ],
   "source": [
    "add(1,2)"
   ]
  },
  {
   "cell_type": "code",
   "execution_count": 21,
   "id": "a2be46d4",
   "metadata": {},
   "outputs": [
    {
     "name": "stdout",
     "output_type": "stream",
     "text": [
      "1111\n"
     ]
    }
   ],
   "source": [
    "add(10,100,111,890)"
   ]
  },
  {
   "cell_type": "code",
   "execution_count": 22,
   "id": "0299865b",
   "metadata": {},
   "outputs": [],
   "source": [
    "# double star used when we need to pull out both key and value pairs\n",
    "def info(**kwargs):\n",
    "    for i,j in kwargs.items():\n",
    "        print(i,j)\n"
   ]
  },
  {
   "cell_type": "code",
   "execution_count": 23,
   "id": "dedc0f83",
   "metadata": {},
   "outputs": [
    {
     "name": "stdout",
     "output_type": "stream",
     "text": [
      "name John\n",
      "age 30\n",
      "city mumbai\n"
     ]
    }
   ],
   "source": [
    "info(name=\"John\", age=30, city=\"mumbai\")"
   ]
  },
  {
   "cell_type": "code",
   "execution_count": 24,
   "id": "98348c6d",
   "metadata": {},
   "outputs": [
    {
     "name": "stdout",
     "output_type": "stream",
     "text": [
      "name John\n",
      "age 30\n",
      "city mumbai\n",
      "dept IT\n"
     ]
    }
   ],
   "source": [
    "info(name=\"John\", age=30, city=\"mumbai\", dept=\"IT\")"
   ]
  },
  {
   "cell_type": "code",
   "execution_count": 27,
   "id": "443d83c1",
   "metadata": {},
   "outputs": [],
   "source": [
    "#positional plus variable arguments\n",
    "def person(name, *arg):\n",
    "    print(name)\n",
    "    print(arg)"
   ]
  },
  {
   "cell_type": "code",
   "execution_count": 28,
   "id": "b4baa625",
   "metadata": {},
   "outputs": [
    {
     "name": "stdout",
     "output_type": "stream",
     "text": [
      "Paul\n",
      "(30, 'IT', 777000, 'Delhi')\n"
     ]
    }
   ],
   "source": [
    "person(\"Paul\",30,\"IT\",777000,\"Delhi\")"
   ]
  },
  {
   "cell_type": "code",
   "execution_count": null,
   "id": "660935d3",
   "metadata": {},
   "outputs": [],
   "source": [
    "## will show error as keywords cannot be defined for variable length arguments\n",
    "person(\"Paul\", age=30,dept=\"IT\",777000,\"Delhi\")"
   ]
  },
  {
   "cell_type": "markdown",
   "id": "3195b42b",
   "metadata": {},
   "source": [
    "Task: Oil and Gas Equipment and Drilling Site Management System\n",
    "\n",
    " \n",
    "\n",
    "You are tasked with developing a Python program for an oil and gas company to manage their drilling equipment and drilling sites. The program should use *args and **kwargs to provide flexibility in adding and searching for equipment and sites. Here are the tasks you need to complete:\n",
    "Create a Python script that defines empty lists for drilling equipment and drilling sites.\n",
    "\n",
    " \n",
    "\n",
    "Implement a function add_equipment that takes the following parameters:\n",
    "\n",
    " \n",
    "\n",
    "equipment_type (string): The type of equipment being added.\n",
    "*args (tuple): Additional details about the equipment (e.g., model, power, capacity).\n",
    "**kwargs (dictionary): Additional attributes of the equipment (e.g., vendor, power source).\n",
    "The function should create a dictionary representing the equipment, including its type, details (from *args), and attributes (from **kwargs). Then, it should append this dictionary to the drilling_equipment list."
   ]
  },
  {
   "cell_type": "code",
   "execution_count": 38,
   "id": "0494b63b",
   "metadata": {},
   "outputs": [],
   "source": [
    "drilling_equipment=[]\n",
    "\n",
    "def add_equipment(equipment_type, *args, **kwargs):\n",
    "    print(equipment_type)\n",
    "    print(args)\n",
    "    print(kwargs)\n",
    "    return kwargs"
   ]
  },
  {
   "cell_type": "code",
   "execution_count": 40,
   "id": "5789e914",
   "metadata": {},
   "outputs": [],
   "source": [
    "kwargs=add_equipment(\"Drilling Machine\", \"A201\",1800,500, vendor=\"rmz manuf\",power_source=\"bjk\")"
   ]
  },
  {
   "cell_type": "code",
   "execution_count": 37,
   "id": "32dc8a38",
   "metadata": {},
   "outputs": [
    {
     "data": {
      "text/plain": [
       "[{'vendor': 'rmz manuf', 'power_source': 'bjk'}]"
      ]
     },
     "execution_count": 37,
     "metadata": {},
     "output_type": "execute_result"
    }
   ],
   "source": [
    "drilling_equipment.append(kwargs)\n",
    "drilling_equipment"
   ]
  },
  {
   "cell_type": "code",
   "execution_count": 39,
   "id": "a59691ba",
   "metadata": {},
   "outputs": [],
   "source": [
    "drilling_equipment=[]\n",
    "def add_equipment(equipment_type,*args,**kwargs):\n",
    "    dict={\n",
    "        \"equipment\" : equipment_type,\n",
    "        \"details\" : args,\n",
    "        \"attributes\": kwargs\n",
    "    }\n",
    "    drilling_equipment.append(dict)"
   ]
  },
  {
   "cell_type": "code",
   "execution_count": 41,
   "id": "1062ef0e",
   "metadata": {},
   "outputs": [
    {
     "data": {
      "text/plain": [
       "[{'equipment': 'Drilling Machine',\n",
       "  'details': ('A201', 1800, 500),\n",
       "  'attributes': {'vendor': 'rmz manuf', 'power_source': 'bjk'}}]"
      ]
     },
     "execution_count": 41,
     "metadata": {},
     "output_type": "execute_result"
    }
   ],
   "source": [
    "kwargs=add_equipment(\"Drilling Machine\", \"A201\",1800,500, vendor=\"rmz manuf\",power_source=\"bjk\")\n",
    "drilling_equipment"
   ]
  },
  {
   "cell_type": "markdown",
   "id": "2e736af2",
   "metadata": {},
   "source": [
    "Implement a function add_drilling_site with similar parameters:\n",
    "\n",
    " \n",
    "\n",
    "site_name (string): The name of the drilling site being added.\n",
    "*args (tuple): Additional details about the site (e.g., location, depth, terrain).\n",
    "**kwargs (dictionary): Additional attributes of the site (e.g., status, operator).\n",
    "The function should create a dictionary representing the site, including its name, details (from *args), and attributes (from **kwargs). Then, it should append this dictionary to the drilling_sites list."
   ]
  },
  {
   "cell_type": "code",
   "execution_count": 42,
   "id": "6f0fbccf",
   "metadata": {},
   "outputs": [],
   "source": [
    "drilling_sites=[]\n",
    "def add_drilling_site(site_name, *args, **kwargs):\n",
    "    dict={\n",
    "        \"site_name\" : site_name,\n",
    "        \"details\" : args,\n",
    "        \"attributes\": kwargs\n",
    "    }\n",
    "    drilling_sites.append(dict)\n",
    "    "
   ]
  },
  {
   "cell_type": "code",
   "execution_count": 43,
   "id": "d92bc9f9",
   "metadata": {},
   "outputs": [],
   "source": [
    "add_drilling_site(\"psite\",\"Bangalore\",\"700km\",\"plt\", status=\"ongoing\", operator=\"manager\")"
   ]
  },
  {
   "cell_type": "code",
   "execution_count": 45,
   "id": "e46eda1c",
   "metadata": {},
   "outputs": [
    {
     "data": {
      "text/plain": [
       "[{'site_name': 'psite',\n",
       "  'details': ('Bangalore', '700km', 'plt'),\n",
       "  'attributes': {'status': 'ongoing', 'operator': 'manager'}}]"
      ]
     },
     "execution_count": 45,
     "metadata": {},
     "output_type": "execute_result"
    }
   ],
   "source": [
    "drilling_sites"
   ]
  },
  {
   "cell_type": "code",
   "execution_count": null,
   "id": "5944693d",
   "metadata": {},
   "outputs": [],
   "source": []
  },
  {
   "cell_type": "code",
   "execution_count": null,
   "id": "98d5cf78",
   "metadata": {},
   "outputs": [],
   "source": []
  }
 ],
 "metadata": {
  "kernelspec": {
   "display_name": "Python 3 (ipykernel)",
   "language": "python",
   "name": "python3"
  },
  "language_info": {
   "codemirror_mode": {
    "name": "ipython",
    "version": 3
   },
   "file_extension": ".py",
   "mimetype": "text/x-python",
   "name": "python",
   "nbconvert_exporter": "python",
   "pygments_lexer": "ipython3",
   "version": "3.11.4"
  }
 },
 "nbformat": 4,
 "nbformat_minor": 5
}
