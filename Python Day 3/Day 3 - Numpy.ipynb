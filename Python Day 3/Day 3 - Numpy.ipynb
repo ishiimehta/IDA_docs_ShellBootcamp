{
 "cells": [
  {
   "cell_type": "code",
   "execution_count": 1,
   "id": "8cae7669",
   "metadata": {},
   "outputs": [],
   "source": [
    "import numpy as np"
   ]
  },
  {
   "cell_type": "code",
   "execution_count": 2,
   "id": "7b5c1a43",
   "metadata": {},
   "outputs": [
    {
     "data": {
      "text/plain": [
       "array([  1,  22, 321])"
      ]
     },
     "execution_count": 2,
     "metadata": {},
     "output_type": "execute_result"
    }
   ],
   "source": [
    "arr= np.array([1,22,321])\n",
    "arr"
   ]
  },
  {
   "cell_type": "code",
   "execution_count": 3,
   "id": "eeb75d77",
   "metadata": {},
   "outputs": [
    {
     "data": {
      "text/plain": [
       "array([[  1,  22, 321],\n",
       "       [ 44, 555, 666]])"
      ]
     },
     "execution_count": 3,
     "metadata": {},
     "output_type": "execute_result"
    }
   ],
   "source": [
    "arr2= np.array([[1,22,321],[44,555,666]])\n",
    "arr2"
   ]
  },
  {
   "cell_type": "code",
   "execution_count": 6,
   "id": "8ecc926e",
   "metadata": {},
   "outputs": [
    {
     "data": {
      "text/plain": [
       "array([[[   1,   22,  321],\n",
       "        [  44,  555,  666],\n",
       "        [  90,   33, 1232]],\n",
       "\n",
       "       [[   1,   22,  321],\n",
       "        [  44,  555,  666],\n",
       "        [  90,   33, 1232]],\n",
       "\n",
       "       [[   1,   22,  321],\n",
       "        [  44,  555,  666],\n",
       "        [  90,   33, 1232]]])"
      ]
     },
     "execution_count": 6,
     "metadata": {},
     "output_type": "execute_result"
    }
   ],
   "source": [
    "arr3= np.array([[[1,22,321],[44,555,666],[90,33,1232]], [[1,22,321],[44,555,666],[90,33,1232]], [[1,22,321],[44,555,666],[90,33,1232]]])\n",
    "arr3"
   ]
  },
  {
   "cell_type": "code",
   "execution_count": 7,
   "id": "77de50d6",
   "metadata": {},
   "outputs": [
    {
     "data": {
      "text/plain": [
       "3"
      ]
     },
     "execution_count": 7,
     "metadata": {},
     "output_type": "execute_result"
    }
   ],
   "source": [
    "arr3.ndim"
   ]
  },
  {
   "cell_type": "code",
   "execution_count": 8,
   "id": "412aa291",
   "metadata": {},
   "outputs": [
    {
     "data": {
      "text/plain": [
       "array([[[   1,   22,  321],\n",
       "        [  44,  555,  666],\n",
       "        [  90,   33, 1232]],\n",
       "\n",
       "       [[   1,   22,  321],\n",
       "        [  44,  555,  666],\n",
       "        [  90,   33, 1232]]])"
      ]
     },
     "execution_count": 8,
     "metadata": {},
     "output_type": "execute_result"
    }
   ],
   "source": [
    "arr3[0:2]"
   ]
  },
  {
   "cell_type": "code",
   "execution_count": 9,
   "id": "d875e364",
   "metadata": {},
   "outputs": [
    {
     "data": {
      "text/plain": [
       "321"
      ]
     },
     "execution_count": 9,
     "metadata": {},
     "output_type": "execute_result"
    }
   ],
   "source": [
    "arr3[0][0,2]"
   ]
  },
  {
   "cell_type": "code",
   "execution_count": 10,
   "id": "dc576cf8",
   "metadata": {},
   "outputs": [
    {
     "data": {
      "text/plain": [
       "666"
      ]
     },
     "execution_count": 10,
     "metadata": {},
     "output_type": "execute_result"
    }
   ],
   "source": [
    "arr3[0,1,2]"
   ]
  },
  {
   "cell_type": "code",
   "execution_count": 11,
   "id": "8c2aa293",
   "metadata": {},
   "outputs": [
    {
     "data": {
      "text/plain": [
       "array([555, 666])"
      ]
     },
     "execution_count": 11,
     "metadata": {},
     "output_type": "execute_result"
    }
   ],
   "source": [
    "arr3[1,1,1:3]"
   ]
  },
  {
   "cell_type": "code",
   "execution_count": 2,
   "id": "d14cd958",
   "metadata": {},
   "outputs": [],
   "source": [
    "import numpy as np"
   ]
  },
  {
   "cell_type": "code",
   "execution_count": 3,
   "id": "c14e3ef5",
   "metadata": {},
   "outputs": [],
   "source": [
    "ar1= np.array([1,2,3])\n",
    "ar2= np.array([4,5,6])"
   ]
  },
  {
   "cell_type": "code",
   "execution_count": 4,
   "id": "3b105ef5",
   "metadata": {},
   "outputs": [
    {
     "data": {
      "text/plain": [
       "array([1, 2, 3, 4, 5, 6])"
      ]
     },
     "execution_count": 4,
     "metadata": {},
     "output_type": "execute_result"
    }
   ],
   "source": [
    "np.concatenate((ar1,ar2))"
   ]
  },
  {
   "cell_type": "code",
   "execution_count": 5,
   "id": "7590c8ab",
   "metadata": {},
   "outputs": [],
   "source": [
    "arr1= np.array([[11,22],[23,34]])\n",
    "arr2= np.array([[333,21],[29,334]])"
   ]
  },
  {
   "cell_type": "code",
   "execution_count": 7,
   "id": "52f663d1",
   "metadata": {},
   "outputs": [],
   "source": [
    "ar=np.concatenate((arr1,arr2))"
   ]
  },
  {
   "cell_type": "code",
   "execution_count": 8,
   "id": "0720cf53",
   "metadata": {},
   "outputs": [
    {
     "data": {
      "text/plain": [
       "2"
      ]
     },
     "execution_count": 8,
     "metadata": {},
     "output_type": "execute_result"
    }
   ],
   "source": [
    "ar.ndim"
   ]
  },
  {
   "cell_type": "code",
   "execution_count": 9,
   "id": "a670ab84",
   "metadata": {},
   "outputs": [
    {
     "data": {
      "text/plain": [
       "(4, 2)"
      ]
     },
     "execution_count": 9,
     "metadata": {},
     "output_type": "execute_result"
    }
   ],
   "source": [
    "ar.shape"
   ]
  },
  {
   "cell_type": "code",
   "execution_count": 10,
   "id": "9ba8103c",
   "metadata": {},
   "outputs": [],
   "source": [
    "temperature_data = [25.3, 26.1, 24.8, 23.5, 27.2]\n",
    "pressure_data = [101.2, 100.8, 101.5, 100.2, 101.0]\n",
    "humidity_data = [55.2, 54.8, 56.5, 53.7, 55.9]"
   ]
  },
  {
   "cell_type": "code",
   "execution_count": 14,
   "id": "6870c76e",
   "metadata": {},
   "outputs": [],
   "source": [
    "temperature_data= np.array(temperature_data)\n",
    "pressure_data= np.array(pressure_data)\n",
    "humidity_data= np.array(humidity_data)"
   ]
  },
  {
   "cell_type": "code",
   "execution_count": 15,
   "id": "58262204",
   "metadata": {},
   "outputs": [],
   "source": [
    "temp_avg= np.average(temperature_data)\n",
    "pressure_avg= np.average(pressure_data)\n",
    "humidity_avg= np.average(humidity_data)"
   ]
  },
  {
   "cell_type": "code",
   "execution_count": 17,
   "id": "8dadb3a8",
   "metadata": {},
   "outputs": [],
   "source": [
    "temp_std= np.std(temperature_data)\n",
    "pressure_std= np.std(pressure_data)\n",
    "humidity_std= np.std(humidity_data)"
   ]
  },
  {
   "cell_type": "code",
   "execution_count": 20,
   "id": "56822935",
   "metadata": {},
   "outputs": [],
   "source": [
    "temp_max= np.max(temperature_data)\n",
    "pressure_max= np.max(pressure_data)\n",
    "humidity_max= np.max(humidity_data)"
   ]
  },
  {
   "cell_type": "code",
   "execution_count": 22,
   "id": "7eecbc81",
   "metadata": {},
   "outputs": [],
   "source": [
    "temp_min= np.min(temperature_data)\n",
    "pressure_min= np.min(pressure_data)\n",
    "humidity_min= np.min(humidity_data)"
   ]
  }
 ],
 "metadata": {
  "kernelspec": {
   "display_name": "Python 3 (ipykernel)",
   "language": "python",
   "name": "python3"
  },
  "language_info": {
   "codemirror_mode": {
    "name": "ipython",
    "version": 3
   },
   "file_extension": ".py",
   "mimetype": "text/x-python",
   "name": "python",
   "nbconvert_exporter": "python",
   "pygments_lexer": "ipython3",
   "version": "3.11.4"
  }
 },
 "nbformat": 4,
 "nbformat_minor": 5
}
